{
 "cells": [
  {
   "cell_type": "markdown",
   "metadata": {},
   "source": [
    "## Python build-in data types\n",
    "- String `str` type: any text surrounded by single `'...'` or double `\"...\"` quotes\n",
    "\n",
    "- Boolean `bool` type: `True` or `False`\n",
    "\n",
    "- Numeric types: `int` (signed integer), `float` (floating-point number), `complex` (complex number)\n",
    "\n",
    "- Sequence types: `list` (ordered, mutable, unhashable), `tuple` (ordered, immutable, hashable), `range`\n",
    "\n",
    "- Set types: `set` (unordered, mutable, unhashable), `frozenset` (unordered, immutable, hashable)\n",
    "\n",
    "- Dictionary data type: `dict` consists of `key:value` pairs\n",
    "\n",
    "- Binary types: `bytes`, `bytearray`, `memoryview`\n",
    "\n",
    "- None type: `None`\n",
    "\n",
    "One can get the data type of any object by using the `type()` function."
   ]
  },
  {
   "cell_type": "code",
   "execution_count": 15,
   "metadata": {},
   "outputs": [
    {
     "name": "stdout",
     "output_type": "stream",
     "text": [
      "<class 'dict'>\n"
     ]
    }
   ],
   "source": [
    "x = None             # NoneType\n",
    "x = True             # bool\n",
    "x = \"Hello World\"    # str\n",
    "x = 10               # int\n",
    "x = 3.14             # float\n",
    "x = 3 + 4j           # complex\n",
    "x = ['A','B','C']    # list\n",
    "x = ('A','B','C')    # tuple\n",
    "x = {'A','B','C'}    # set\n",
    "x = {'A':1, 'B':2, 'C':3}  # dict\n",
    "print(type(x))"
   ]
  },
  {
   "cell_type": "code",
   "execution_count": 16,
   "metadata": {},
   "outputs": [
    {
     "name": "stdout",
     "output_type": "stream",
     "text": [
      "<class 'frozenset'> frozenset({'a', 'b', 'c'})\n"
     ]
    }
   ],
   "source": [
    "## Set the specific data type (casting data type)\n",
    "x = str(10)\n",
    "x = bool(0)\n",
    "x = int(True)\n",
    "x = complex(3,4)  # (real, imag)\n",
    "x = list(('a','b','c'))  # cast tuple to list\n",
    "x = tuple(['a','b','c']) # cast list to tuple\n",
    "x = dict(A=1, B=2, C=3)  # dict with key=value definition\n",
    "x = set(['a','b','c','a'])  # set removes repeated items\n",
    "x = frozenset({'a','b','c','a'})\n",
    "print(type(x), x)"
   ]
  },
  {
   "cell_type": "code",
   "execution_count": 17,
   "metadata": {},
   "outputs": [
    {
     "name": "stdout",
     "output_type": "stream",
     "text": [
      "a\n",
      "b\n",
      "c\n",
      "[1, 3, 5, 7, 9]\n",
      "0\n",
      "1\n",
      "2\n"
     ]
    }
   ],
   "source": [
    "## Access element of list or tuple using bracket []\n",
    "## The index in Python starts with 0\n",
    "## The last element can be accessed with the index -1\n",
    "list1 = ['a','b','c']\n",
    "print(list1[0])\n",
    "print(list1[1])\n",
    "print(list1[-1])\n",
    "\n",
    "## range(start, end, step)\n",
    "## If start is not specified, default to 0\n",
    "## If step is not specified, default to 1\n",
    "## start is inclusive but end is exclusive\n",
    "list2 = [a for a in range(1,10,2)]\n",
    "print(list2)\n",
    "for i in range(3):\n",
    "    print(i)"
   ]
  },
  {
   "cell_type": "markdown",
   "metadata": {},
   "source": [
    "## String formatting\n",
    "- Method 1 (older style): `string.format(value1, value2, ...)`. The `format()` method formats the specified values(s) and insert them inside the string's placeholder. The placeholder is defined using curly brackets `{}`.\n",
    "\n",
    "- Method 2 (with the `%` operator): `str` objects have one unique built-in `%` operation. Given `format % values` (where format is a string), specifications in format will be replaced with values.\n",
    "\n",
    "- Method 3 (f-string introduced in Python 3.6): `f\"Text containing {value:specification}\"`\n",
    "\n",
    "### Some common conversion specifiers:\n",
    "| Specifier | Description |\n",
    "| --------- | ----------- |\n",
    "| `'d'` | Signed integer decimal |\n",
    "| `'i'` | Signed integer decimal |\n",
    "| `'e'` | Floating point exponential format |\n",
    "| `'f'` | Floating point decimal format |\n",
    "| `'g'` | Floating point format. Uses lowercase exponential format if exponent is less than -4 or not less than precision, decimal format otherwise |\n",
    "| `'c'` | Single character (accepts integer or single character string) |\n",
    "| `'r'` | String (converts any Python object using `repr()`) |\n",
    "| `'s'` | String (converts any Python object using `str()`) |\n",
    "| `'a'` | String (converts any Python object using `ascii()`) |\n",
    "| `'%'` | No argument is converted, results in a % character in the result |"
   ]
  },
  {
   "cell_type": "code",
   "execution_count": 18,
   "metadata": {},
   "outputs": [
    {
     "name": "stdout",
     "output_type": "stream",
     "text": [
      "My name is John, I am 18 years old.\n"
     ]
    }
   ],
   "source": [
    "## Method 1\n",
    "txt1 = \"My name is {name}, I am {age} years old.\".format(name=\"John\", age=18)\n",
    "txt2 = \"My name is {0}, I am {1} years old.\".format(\"John\", 18)\n",
    "txt3 = \"My name is {}, I am {} years old.\".format(\"John\", 18)\n",
    "print(txt3)"
   ]
  },
  {
   "cell_type": "code",
   "execution_count": 19,
   "metadata": {},
   "outputs": [
    {
     "name": "stdout",
     "output_type": "stream",
     "text": [
      "Pi rounded to integer is 3\n",
      "Pi rounded to 1 decimal place is 3.1\n",
      "Pi rounded to 2 decimal place is 3.14\n",
      "Pi in 4-digit general format is 3.142\n",
      "Speed of light in 4-digit scientific format is 2.9979E+08 m/s\n",
      "Speed of light in 4-digit general format is 2.998E+08 m/s\n"
     ]
    }
   ],
   "source": [
    "import math\n",
    "\n",
    "## Method 2\n",
    "c = 2.99792458e8  # m/s\n",
    "print(\"Pi rounded to integer is %i\" % math.pi)\n",
    "print(\"Pi rounded to 1 decimal place is %.1f\" % math.pi)\n",
    "print(\"Pi rounded to 2 decimal place is %.2f\" % math.pi)\n",
    "print(\"Pi in 4-digit general format is %.4g\" % math.pi)\n",
    "print(\"Speed of light in 4-digit scientific format is %.4E m/s\" % c)\n",
    "print(\"Speed of light in 4-digit general format is %.4G m/s\" % c)"
   ]
  },
  {
   "cell_type": "code",
   "execution_count": 20,
   "metadata": {},
   "outputs": [
    {
     "name": "stdout",
     "output_type": "stream",
     "text": [
      "Light travels 0.2998 m in 1 ns\n",
      "The perimeter of a circle of radius 1 is 6.28\n"
     ]
    }
   ],
   "source": [
    "## Method 3\n",
    "dt = 1e-9  # second\n",
    "distance = c*dt  # m\n",
    "print(f\"Light travels {distance:.4g} m in {dt*1e9:.2g} ns\")\n",
    "radius = 1\n",
    "perimeter = 2*math.pi*radius\n",
    "print(f\"The perimeter of a circle of radius {radius} is {perimeter:.3g}\")"
   ]
  },
  {
   "cell_type": "markdown",
   "metadata": {},
   "source": [
    "## String and directory\n",
    "In a string, the backslash `\\` is a special character used to escape characters that otherwise have a special meaning (e.g., backslash itself, single quote `'` or double quote `\"`). Prefixing a special character with `\\` turns it into an ordinary character in the string. In addition, the following combination has special meaning: \n",
    "- `\\n` is a newline\n",
    "- `\\r` is a carriage return\n",
    "- `\\t` is a tab\n",
    "\n",
    "Contrary to Linux and macOS, Windows file system uses `\\` as separator and can cause some issue when handling directories in Python. One can use `os` module to manage file paths and create codes that will be compatible on other platform. To correctly represent the path C:\\Users\\Hero\\Desktop in a Python string, one can write `\"C:\\\\Users\\\\Photon\\\\Desktop\"` (the first `\\` is to escape the second `\\`), or write `r\"C:\\Users\\Photon\\Desktop\"` where the prefix `r` specify the string as a raw string."
   ]
  },
  {
   "cell_type": "code",
   "execution_count": 1,
   "metadata": {},
   "outputs": [
    {
     "name": "stdout",
     "output_type": "stream",
     "text": [
      "c:\\Users\\B30724\\Documents\\Python\\Teaching\\01-Python_basic.ipynb\n",
      "01-Python_basic.ipynb\n",
      "02-Python_control_statement.ipynb\n",
      "03-Python_function.ipynb\n"
     ]
    }
   ],
   "source": [
    "import os\n",
    "\n",
    "dirname = os.getcwd()  # Get current working directory\n",
    "filename = \"01-Python_basic\" + \".ipynb\"\n",
    "fullpath = os.path.join(dirname, filename)\n",
    "print(fullpath)\n",
    "\n",
    "alldirs = os.listdir(dirname)  # Get the list of all files and directories in the specified directory\n",
    "for dir in alldirs:\n",
    "    if os.path.isfile(dir):  # Neglect directory\n",
    "        dirname, filename = os.path.split(dir)  # Split the full path into directory and file name\n",
    "        print(filename)"
   ]
  },
  {
   "cell_type": "markdown",
   "metadata": {},
   "source": [
    "## Arithmetic Operators\n",
    "Arithmetic operators are used with numeric values to perform common mathematical operations:\n",
    "| Operator | Description |\n",
    "| -------- | ----------- |\n",
    "| `+` | Addition |\n",
    "| `-` | Subtraction |\n",
    "| `*` | Multiplication |\n",
    "| `/` | Division |\n",
    "| `**` | Power |\n",
    "| `//` | Floor division |\n",
    "| `%` | Modulus (division remainder) |"
   ]
  },
  {
   "cell_type": "code",
   "execution_count": null,
   "metadata": {},
   "outputs": [
    {
     "name": "stdout",
     "output_type": "stream",
     "text": [
      "2024 divided by 5 is 404 remaining 4\n"
     ]
    }
   ],
   "source": [
    "x = 2**5       # 32\n",
    "x = pow(2, 5)  # same as 2**5\n",
    "a = 2024\n",
    "b = 5\n",
    "a // b  # 404\n",
    "a % b   # 4\n",
    "q, r = divmod(a, b)  # Return quotient and remainder, same as // and %\n",
    "print(f\"{a} divided by {b} is {q} remaining {r}\")\n",
    "\n",
    "radius = 1\n",
    "area = math.pi*radius**2  # Power ** has higher priority than multiplication *\n",
    "print(f\"The surface area of a circle of radius {radius} is {area:.2f}\")"
   ]
  },
  {
   "cell_type": "markdown",
   "metadata": {},
   "source": [
    "## Assignment operators\n",
    "Assignment operators are used to assign values to variables:\n",
    "| Operator | Description |\n",
    "| -------- | ----------- |\n",
    "| `=` | Assign a value to the variable |\n",
    "| `+=` | Increment the variable by a number |\n",
    "| `-=` | Decrement the variable by a number |\n",
    "| `*=` | Multiplied by a number |\n",
    "| `/=` | Divided by a number |\n",
    "\n",
    "## Membership operators\n",
    "| Operator | Description |\n",
    "| -------- | ----------- |\n",
    "| `in` | Test if an object is presented in a sequence |\n",
    "| `not in` | Test if an object is not presented in a sequence |"
   ]
  },
  {
   "cell_type": "code",
   "execution_count": 14,
   "metadata": {},
   "outputs": [
    {
     "name": "stdout",
     "output_type": "stream",
     "text": [
      "True\n",
      "False\n"
     ]
    }
   ],
   "source": [
    "list3 = [a for a in range(10)]\n",
    "print(0 in list3)\n",
    "print(10 in list3)"
   ]
  },
  {
   "cell_type": "markdown",
   "metadata": {},
   "source": [
    "## Comparison operators\n",
    "Comparison operators are used to compare two values. \n",
    "\n",
    "Operators `is` and `is not` are used to compare objects, not if they are equal, but if they are actually the same object with the same memory location.\n",
    "| Operator | Description |\n",
    "| -------- | ----------- |\n",
    "| `==` | Equal |\n",
    "| `!=` | Not equal |\n",
    "| `>` | Greater than |\n",
    "| `<` | Less than |\n",
    "| `>=` | Greater than or equal to |\n",
    "| `<=` | Less than or equal to |\n",
    "| `is` | Object identity |\n",
    "| `is not` | Negated object identity |\n",
    "\n",
    "Note: comparison operators all have the same priority, which is higher than that of the logical operators.\n",
    "\n",
    "## Logical (boolean) operators\n",
    "Logical operators are used to combine conditional statements:\n",
    "| Operator | Description |\n",
    "| -------- | ----------- |\n",
    "| `and` | Logical and |\n",
    "| `or` | Logical or |\n",
    "| `not` | Logical not |\n",
    "\n",
    "Note: priority order of these operation (high to low) is `not` > `and` > `or`"
   ]
  },
  {
   "cell_type": "code",
   "execution_count": 60,
   "metadata": {},
   "outputs": [
    {
     "name": "stdout",
     "output_type": "stream",
     "text": [
      "False\n",
      "True\n",
      "True\n"
     ]
    }
   ],
   "source": [
    "x = 10\n",
    "print(x > 5 and x < 10)\n",
    "print(x <= 5 or x >= 10)\n",
    "print(not (x > 5 and x < 10))"
   ]
  },
  {
   "cell_type": "markdown",
   "metadata": {},
   "source": [
    "## Bitwise operators\n",
    "Bitwise operators are used to compare (binary) integer numbers:\n",
    "| Operator | Description |\n",
    "| -------- | ----------- |\n",
    "| `&` | AND set each bit to 1 if both bits are 1 |\n",
    "| `\\|` | OR set each bit to 1 if one of two bits is 1 |\n",
    "| `^` | XOR set each bit to 1 if only one of two bits is 1 |\n",
    "| `~` | NOT invert all the bits |"
   ]
  }
 ],
 "metadata": {
  "kernelspec": {
   "display_name": "base",
   "language": "python",
   "name": "python3"
  },
  "language_info": {
   "codemirror_mode": {
    "name": "ipython",
    "version": 3
   },
   "file_extension": ".py",
   "mimetype": "text/x-python",
   "name": "python",
   "nbconvert_exporter": "python",
   "pygments_lexer": "ipython3",
   "version": "3.12.7"
  }
 },
 "nbformat": 4,
 "nbformat_minor": 2
}
