{
 "cells": [
  {
   "cell_type": "markdown",
   "metadata": {},
   "source": [
    "## Local minimization of multivariate scalar functions (`minimize`)\n",
    "https://docs.scipy.org/doc/scipy/tutorial/optimize.html\n",
    "### Unconstrained minimization\n",
    "#### Nelder-Mead simplex algorithm (`method='Nelder-Mead'`)"
   ]
  },
  {
   "cell_type": "code",
   "execution_count": 2,
   "metadata": {},
   "outputs": [],
   "source": [
    "import numpy as np\n",
    "from scipy.optimize import minimize, LinearConstraint, NonlinearConstraint\n",
    "import matplotlib.pyplot as plt\n",
    "from matplotlib.patches import Rectangle, Polygon, Circle\n",
    "\n",
    "plt.style.use(r\"C:\\Users\\B30724\\Documents\\Python\\presentation.mplstyle\")"
   ]
  },
  {
   "cell_type": "markdown",
   "metadata": {},
   "source": [
    "Example objective function $f: \\mathbb{R}^2 \\rightarrow \\mathbb{R}$\n",
    "$$ f(x,y) = 1-\\text{e}^{-\\left[(x-1)^2 + (x-1)(y-1) + \\frac{1}{2}(y-1)^2 \\right]} $$\n",
    "\n",
    "This function has minimum of 0 at $(x,y)=(1,1)$."
   ]
  },
  {
   "cell_type": "code",
   "execution_count": null,
   "metadata": {},
   "outputs": [
    {
     "data": {
      "image/png": "[encoded data removed]",
      "text/plain": [
       "<Figure size 500x400 with 2 Axes>"
      ]
     },
     "metadata": {},
     "output_type": "display_data"
    }
   ],
   "source": [
    "x = np.linspace(-1,2,101)\n",
    "y = np.linspace(-1,2,101)\n",
    "xx, yy = np.meshgrid(x, y)\n",
    "func = lambda X, Y: 1 - np.exp(-((X-1)**2 + (X-1)*(Y-1) + 0.5*(Y-1)**2))\n",
    "\n",
    "fig, ax = plt.subplots(figsize=(5,4))\n",
    "ax.set(xlabel='x', ylabel='y')\n",
    "img = ax.contourf(xx, yy, func(xx, yy), levels=12)  # levels=[0,1e-3,5e-3,1e-2]+list(np.linspace(0.1,1,10))\n",
    "# img = ax.pcolormesh(xx, yy, func(xx, yy))\n",
    "fig.colorbar(img, ax=ax)\n",
    "fig.tight_layout()\n"
   ]
  },
  {
   "cell_type": "code",
   "execution_count": 11,
   "metadata": {},
   "outputs": [
    {
     "name": "stdout",
     "output_type": "stream",
     "text": [
      "Optimization terminated successfully.\n",
      "         Current function value: 0.000000\n",
      "         Iterations: 85\n",
      "         Function evaluations: 159\n"
     ]
    }
   ],
   "source": [
    "def objective(x):\n",
    "    return 1 - np.exp(-((x[0]-1)**2 + (x[0]-1)*(x[1]-1) + 0.5*(x[1]-1)**2))\n",
    "\n",
    "x0 = np.array([0.0, 0.0])\n",
    "res1 = minimize(objective, x0, method='nelder-mead', tol=1e-6, options={'disp': True})"
   ]
  },
  {
   "cell_type": "code",
   "execution_count": 12,
   "metadata": {},
   "outputs": [
    {
     "name": "stdout",
     "output_type": "stream",
     "text": [
      "[0.99999968 0.99999984]\n"
     ]
    }
   ],
   "source": [
    "print(res1.x)"
   ]
  },
  {
   "cell_type": "markdown",
   "metadata": {},
   "source": [
    "#### Broyden-Fletcher-Goldfarb-Shanno algorithm (`method='BFGS'`)\n",
    "The gradient of a multivariate function $f: \\mathbb{R}^2 \\rightarrow \\mathbb{R}$ is a vector of $\\mathbb{R}^2$ depending on $(x,y)$:\n",
    "$$ \\nabla f(x,y) = \\begin{bmatrix}\\partial_x f(x,y) \\\\ \\partial_y f(x,y) \\end{bmatrix}$$\n",
    "More generally, the gradient of a multivariate function $f: \\mathbb{R}^N \\rightarrow \\mathbb{R}$ is:\n",
    "$$ \\nabla f(\\mathbf{x}_0) = \\begin{bmatrix}\\frac{\\partial f}{\\partial x_1}(\\mathbf{x}_0) \\\\ \\vdots \\\\ \\frac{\\partial f}{\\partial x_N}(\\mathbf{x}_0) \\end{bmatrix}$$\n",
    "Without providing gradient in `minimize(method='BFGS')`, the gradient is estimated on the fly."
   ]
  },
  {
   "cell_type": "code",
   "execution_count": 13,
   "metadata": {},
   "outputs": [
    {
     "name": "stdout",
     "output_type": "stream",
     "text": [
      "Optimization terminated successfully.\n",
      "         Current function value: 0.000000\n",
      "         Iterations: 6\n",
      "         Function evaluations: 27\n",
      "         Gradient evaluations: 9\n"
     ]
    }
   ],
   "source": [
    "res2 = minimize(objective, x0, method='BFGS', tol=1e-6, options={'disp': True})"
   ]
  },
  {
   "cell_type": "code",
   "execution_count": 14,
   "metadata": {},
   "outputs": [
    {
     "name": "stdout",
     "output_type": "stream",
     "text": [
      "[1.00000003 0.99999932]\n"
     ]
    }
   ],
   "source": [
    "print(res2.x)"
   ]
  },
  {
   "cell_type": "markdown",
   "metadata": {},
   "source": [
    "Gradient of the example function written as:\n",
    "$$ \\begin{align}\n",
    "\\frac{\\partial f}{\\partial x} &= \\left[ 2(x-1)+(y-1) \\right] \\text{e}^{-\\left[(x-1)^2 + (x-1)(y-1) + \\frac{1}{2}(y-1)^2 \\right]} \\\\\n",
    "\\frac{\\partial f}{\\partial y} &= \\left[ (x-1)+(y-1) \\right] \\text{e}^{-\\left[(x-1)^2 + (x-1)(y-1) + \\frac{1}{2}(y-1)^2 \\right]}\n",
    "\\end{align} $$"
   ]
  },
  {
   "cell_type": "code",
   "execution_count": 15,
   "metadata": {},
   "outputs": [
    {
     "name": "stdout",
     "output_type": "stream",
     "text": [
      "Optimization terminated successfully.\n",
      "         Current function value: 0.000000\n",
      "         Iterations: 6\n",
      "         Function evaluations: 9\n",
      "         Gradient evaluations: 9\n"
     ]
    }
   ],
   "source": [
    "def derivative(x):\n",
    "    dfdx = (2*(x[0]-1) + x[1]-1) * np.exp(-((x[0]-1)**2 + (x[0]-1)*(x[1]-1) + 0.5*(x[1]-1)**2))\n",
    "    dfdy = (x[0]-1 + x[1]-1) * np.exp(-((x[0]-1)**2 + (x[0]-1)*(x[1]-1) + 0.5*(x[1]-1)**2))\n",
    "    return np.array([dfdx, dfdy])\n",
    "\n",
    "res3 = minimize(objective, x0, method='BFGS', jac=derivative, tol=1e-6, options={'disp': True})"
   ]
  },
  {
   "cell_type": "code",
   "execution_count": 16,
   "metadata": {},
   "outputs": [
    {
     "name": "stdout",
     "output_type": "stream",
     "text": [
      "[1.00000004 0.99999932]\n"
     ]
    }
   ],
   "source": [
    "print(res3.x)"
   ]
  },
  {
   "cell_type": "markdown",
   "metadata": {},
   "source": [
    "#### Newton-Conjugate-Gradient algorithm (`method='Newton-CG'`)\n",
    "Newton's method is based on fitting the function locally to a quadratic form:\n",
    "$$\n",
    "f(\\mathbf{x}) \\approx f(\\mathbf{x}_0) + \\nabla f(\\mathbf{x}_0) \\cdot (\\mathbf{x}-\\mathbf{x}_0) + \\frac{1}{2} (\\mathbf{x}-\\mathbf{x}_0)^T \\mathbf{H}(\\mathbf{x}_0) (\\mathbf{x}-\\mathbf{x}_0)\n",
    "$$\n",
    "where $\\mathbf{H}(\\mathbf{x}_0)$ is a matrix of second derivatives (the __Hessian__). If the Hessian is positive definite, then the local minimum can be found by setting the gradient of this approximation (with respect to $\\mathbf{x}-\\mathbf{x}_0$) to zero, resulting in\n",
    "$$\n",
    "\\mathbf{x_{opt}} = \\mathbf{x_0} - \\mathbf{H}^{-1}\\nabla f\n",
    "$$\n",
    "To take full advantage of the Newton-CG method, a function which computes the Hessian must be provided. The inverse of the Hessian is evaluated using the conjugate-gradient method. The Hessian matrix itself does not need to be constructed, only a vector which is the product of the Hessian with an arbitrary vector needs to be available to the minimization routine. As a result, the user can provide either a function to compute the Hessian matrix, or a function to compute the product of the Hessian with an arbitrary vector.\n",
    "\n",
    "- Full Hessian example\n",
    "$$ \\begin{align}\n",
    "\\frac{\\partial^2 f}{\\partial x^2} &= \\left[2 - \\left(2(x-1)+(y-1)\\right)^2\\right] \\text{e}^{-\\left[(x-1)^2 + (x-1)(y-1) + \\frac{1}{2}(y-1)^2 \\right]} \\\\\n",
    "\\frac{\\partial^2 f}{\\partial x \\partial y} &= \\left[1 - \\left(2(x-1)+(y-1)\\right)\\left((x-1)+(y-1)\\right)\\right] \\text{e}^{-\\left[(x-1)^2 + (x-1)(y-1) + \\frac{1}{2}(y-1)^2 \\right]} \\\\\n",
    "\\frac{\\partial^2 f}{\\partial y \\partial x} &= \\frac{\\partial^2 f}{\\partial x \\partial y} \\\\\n",
    "\\frac{\\partial^2 f}{\\partial y^2} &= \\left[1 - \\left((x-1)+(y-1)\\right)^2\\right] \\text{e}^{-\\left[(x-1)^2 + (x-1)(y-1) + \\frac{1}{2}(y-1)^2 \\right]}\n",
    "\\end{align} $$"
   ]
  },
  {
   "cell_type": "code",
   "execution_count": 17,
   "metadata": {},
   "outputs": [
    {
     "name": "stdout",
     "output_type": "stream",
     "text": [
      "Optimization terminated successfully.\n",
      "         Current function value: 0.000000\n",
      "         Iterations: 4\n",
      "         Function evaluations: 8\n",
      "         Gradient evaluations: 8\n",
      "         Hessian evaluations: 4\n"
     ]
    }
   ],
   "source": [
    "def hessian(x):\n",
    "    dfdxdx = (2 - (2*(x[0]-1) + x[1]-1)**2) * np.exp(-((x[0]-1)**2 + (x[0]-1)*(x[1]-1) + 0.5*(x[1]-1)**2))\n",
    "    dfdxdy = (1 - (2*(x[0]-1) + x[1]-1)*(x[0]-1 + x[1]-1)) * np.exp(-((x[0]-1)**2 + (x[0]-1)*(x[1]-1) + 0.5*(x[1]-1)**2))\n",
    "    dfdydy = (1 - (x[0]-1 + x[1]-1)**2) * np.exp(-((x[0]-1)**2 + (x[0]-1)*(x[1]-1) + 0.5*(x[1]-1)**2))\n",
    "    H = np.array([[dfdxdx, dfdxdy],[dfdxdy, dfdydy]])\n",
    "    return H\n",
    "\n",
    "res4 = minimize(objective, x0, method='Newton-CG',\n",
    "                jac=derivative, hess=hessian, tol=1e-6, options={'disp': True})"
   ]
  },
  {
   "cell_type": "code",
   "execution_count": 18,
   "metadata": {},
   "outputs": [
    {
     "name": "stdout",
     "output_type": "stream",
     "text": [
      "[1. 1.]\n"
     ]
    }
   ],
   "source": [
    "print(res4.x)"
   ]
  },
  {
   "cell_type": "markdown",
   "metadata": {},
   "source": [
    "- Hessian product example\n",
    "\n",
    "For larger minimization problems, storing the entire Hessian matrix can consume considerable time and memory. The Newton-CG algorithm only needs the product of the Hessian times an arbitrary vector. As a result, the user can supply code to compute this product rather than the full Hessian by giving a `hess` function which take the minimization vector as the first argument and the arbitrary vector as the second argument (along with extra arguments passed to the function to be minimized)."
   ]
  },
  {
   "cell_type": "code",
   "execution_count": 19,
   "metadata": {},
   "outputs": [
    {
     "name": "stdout",
     "output_type": "stream",
     "text": [
      "Optimization terminated successfully.\n",
      "         Current function value: 0.000000\n",
      "         Iterations: 4\n",
      "         Function evaluations: 8\n",
      "         Gradient evaluations: 8\n",
      "         Hessian evaluations: 7\n"
     ]
    }
   ],
   "source": [
    "def hessian_p(x, p):\n",
    "    dfdxdx = (2 - (2*(x[0]-1) + x[1]-1)**2) * np.exp(-((x[0]-1)**2 + (x[0]-1)*(x[1]-1) + 0.5*(x[1]-1)**2))\n",
    "    dfdxdy = (1 - (2*(x[0]-1) + x[1]-1)*(x[0]-1 + x[1]-1)) * np.exp(-((x[0]-1)**2 + (x[0]-1)*(x[1]-1) + 0.5*(x[1]-1)**2))\n",
    "    dfdydy = (1 - (x[0]-1 + x[1]-1)**2) * np.exp(-((x[0]-1)**2 + (x[0]-1)*(x[1]-1) + 0.5*(x[1]-1)**2))\n",
    "    Hp = np.array([dfdxdx*p[0] + dfdxdy*p[1], dfdxdy*p[0] + dfdydy*p[1]])\n",
    "    return Hp\n",
    "\n",
    "res5 = minimize(objective, x0, method='Newton-CG',\n",
    "                jac=derivative, hessp=hessian_p, tol=1e-6, options={'disp': True})"
   ]
  },
  {
   "cell_type": "code",
   "execution_count": 20,
   "metadata": {},
   "outputs": [
    {
     "name": "stdout",
     "output_type": "stream",
     "text": [
      "[1. 1.]\n"
     ]
    }
   ],
   "source": [
    "print(res5.x)"
   ]
  },
  {
   "cell_type": "markdown",
   "metadata": {},
   "source": [
    "### Constrained minimization\n",
    "Types of constraints:\n",
    "- Bounds: $\\text{lb}_i \\leq x_i \\leq \\text{ub}_i$, for each $i=1,...,N$\n",
    "- Linear constraints\n",
    "- Nonlinear constraints\n",
    "\n",
    "Note that `BFGS` does not support constraints. `L-BFGS-B` supports only bounds. Use `SLSQP` or `trust-constr` for bounds and constraints."
   ]
  },
  {
   "cell_type": "code",
   "execution_count": 29,
   "metadata": {},
   "outputs": [
    {
     "data": {
      "image/png": "[encoded data removed]",
      "text/plain": [
       "<Figure size 800x400 with 3 Axes>"
      ]
     },
     "metadata": {},
     "output_type": "display_data"
    }
   ],
   "source": [
    "fig, axs = plt.subplots(1,3, figsize=(8,4))\n",
    "for ax in axs:\n",
    "    ax.contourf(xx, yy, func(xx, yy), levels=12)  # levels=[0,1e-3,5e-3,1e-2]+list(np.linspace(0.1,1,10))\n",
    "    ax.set_aspect(\"equal\")\n",
    "axs[0].add_patch(Rectangle((-0.8,-0.8), 1.6, 1.6, lw=1, ec='k', fc='none'))\n",
    "axs[1].add_patch(Polygon(np.vstack([[0,-1], [1,0], [0,1], [-1,0]]), lw=1, ec='k', fc='none'))\n",
    "axs[2].add_patch(Circle((0, 0), 0.9, lw=1, ec='k', fc='none'))\n",
    "fig.tight_layout()"
   ]
  },
  {
   "cell_type": "code",
   "execution_count": 53,
   "metadata": {},
   "outputs": [
    {
     "name": "stdout",
     "output_type": "stream",
     "text": [
      "Objective: 0.09516258196404037\n",
      "[0.8 0.8]\n"
     ]
    }
   ],
   "source": [
    "res6 = minimize(objective, x0, method='L-BFGS-B', jac=derivative, tol=1e-6, \n",
    "                bounds=[(-0.8, 0.8), (-0.8, 0.8)])\n",
    "if res6.success:\n",
    "    print(\"Objective:\", res6.fun)\n",
    "    print(res6.x)"
   ]
  },
  {
   "cell_type": "markdown",
   "metadata": {},
   "source": [
    "**Defining Linear Constraints**\n",
    "\n",
    "The constraints:\n",
    "$$ \\begin{align}\n",
    "x - y &\\leq 1 \\\\\n",
    "x + y &\\leq 1 \\\\\n",
    "-x + y &\\leq 1 \\\\\n",
    "-x - y &\\leq 1\n",
    "\\end{align} $$\n",
    "can be written in the linear constraint standard format:\n",
    "$$\n",
    "\\begin{bmatrix}\n",
    "-\\infty\\\\-\\infty\\\\-\\infty\\\\-\\infty\n",
    "\\end{bmatrix} \\leq\n",
    "\\begin{bmatrix}\n",
    "1 & -1 \\\\\n",
    "1 & 1 \\\\\n",
    "-1 & 1 \\\\\n",
    "-1 & -1 \\end{bmatrix}\n",
    "\\begin{bmatrix}\n",
    "x \\\\ y\n",
    "\\end{bmatrix} \\leq\n",
    "\\begin{bmatrix}\n",
    "1 \\\\ 1 \\\\ 1 \\\\ 1\n",
    "\\end{bmatrix}\n",
    "$$\n",
    "and defined using a `LinearConstraint` object"
   ]
  },
  {
   "cell_type": "code",
   "execution_count": 55,
   "metadata": {},
   "outputs": [
    {
     "name": "stdout",
     "output_type": "stream",
     "text": [
      "`gtol` termination condition is satisfied.\n",
      "Number of iterations: 15, function evaluations: 11, CG iterations: 14, optimality: 8.99e-07, constraint violation: 0.00e+00, execution time: 0.007 s.\n"
     ]
    }
   ],
   "source": [
    "linear_constraint = LinearConstraint([[1,-1], [1,1], [-1,1], [-1,-1]], [-np.inf]*4, [1]*4)\n",
    "res7 = minimize(objective, x0, method='trust-constr', tol=1e-6, jac=derivative, # hess=hessian,\n",
    "                constraints=[linear_constraint], options={'verbose': 1})"
   ]
  },
  {
   "cell_type": "code",
   "execution_count": 56,
   "metadata": {},
   "outputs": [
    {
     "name": "stdout",
     "output_type": "stream",
     "text": [
      "Objective: 0.39373544723197995\n",
      "[0.98150003 0.01823229]\n"
     ]
    }
   ],
   "source": [
    "if res7.success:\n",
    "    print(\"Objective:\", res7.fun)\n",
    "    print(res7.x)"
   ]
  },
  {
   "cell_type": "markdown",
   "metadata": {},
   "source": [
    "**Defining Nonlinear Constraints**\n",
    "\n",
    "The general form of constraints can be written as:\n",
    "$$ c^l \\leq c(\\mathbf{x}) \\leq c^u $$\n",
    "Example constraint:\n",
    "$$ x^2 + y^2 \\leq 1 $$\n",
    "is defined using a `NonlinearConstraint` object."
   ]
  },
  {
   "cell_type": "code",
   "execution_count": 59,
   "metadata": {},
   "outputs": [
    {
     "name": "stdout",
     "output_type": "stream",
     "text": [
      "`gtol` termination condition is satisfied.\n",
      "Number of iterations: 20, function evaluations: 13, CG iterations: 19, optimality: 3.53e-07, constraint violation: 0.00e+00, execution time: 0.01 s.\n"
     ]
    }
   ],
   "source": [
    "constraint = lambda x: x[0]**2+x[1]**2\n",
    "jacobian = lambda x: [2*x[0], 2*x[1]]\n",
    "nonlinear_constraint = NonlinearConstraint(constraint, -np.inf, 1, jac=jacobian)\n",
    "res8 = minimize(objective, x0, method='trust-constr', tol=1e-6, jac=derivative, # hess=hessian,\n",
    "                constraints=[nonlinear_constraint], options={'verbose': 1})"
   ]
  },
  {
   "cell_type": "code",
   "execution_count": 58,
   "metadata": {},
   "outputs": [
    {
     "name": "stdout",
     "output_type": "stream",
     "text": [
      "Objective: 0.18127052698081692\n",
      "[0.79999865 0.59999919]\n"
     ]
    }
   ],
   "source": [
    "if res8.success:\n",
    "    print(\"Objective:\", res8.fun)\n",
    "    print(res8.x)"
   ]
  }
 ],
 "metadata": {
  "kernelspec": {
   "display_name": "photonic",
   "language": "python",
   "name": "python3"
  },
  "language_info": {
   "codemirror_mode": {
    "name": "ipython",
    "version": 3
   },
   "file_extension": ".py",
   "mimetype": "text/x-python",
   "name": "python",
   "nbconvert_exporter": "python",
   "pygments_lexer": "ipython3",
   "version": "3.12.10"
  }
 },
 "nbformat": 4,
 "nbformat_minor": 2
}
