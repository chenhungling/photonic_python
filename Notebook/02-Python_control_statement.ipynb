{
 "cells": [
  {
   "cell_type": "markdown",
   "metadata": {},
   "source": [
    "## If Statement\n",
    "### Syntax\n",
    "```python\n",
    "if expression:\n",
    "   statement\n",
    "elif expression:\n",
    "   statement\n",
    "else:\n",
    "   statement\n",
    "```"
   ]
  },
  {
   "cell_type": "code",
   "execution_count": 1,
   "metadata": {},
   "outputs": [
    {
     "name": "stdout",
     "output_type": "stream",
     "text": [
      "Green light\n"
     ]
    }
   ],
   "source": [
    "wavelength = 0.53e-6  # wavelength in m\n",
    "\n",
    "if wavelength <= 0:\n",
    "    raise Exception(\"wavelength needs to be strictly positive\")\n",
    "elif wavelength < 0.4e-6:\n",
    "    print(\"Invisible ultraviolet light and beyond, watch out for high-energy radiation!\")\n",
    "elif wavelength < 0.5e-6:\n",
    "    print(\"Blue light, not to expose to it for too long!\")\n",
    "elif wavelength < 0.6e-6:\n",
    "    print(\"Green light\")\n",
    "elif wavelength < 0.75e-6:\n",
    "    print(\"Red light\")\n",
    "elif wavelength < 100e-6:\n",
    "    print(\"Invisible infrared light\")\n",
    "elif wavelength < 1:\n",
    "    print(\"Micorwaves\")\n",
    "elif wavelength >= 1:\n",
    "    print(\"Radio waves\")"
   ]
  },
  {
   "cell_type": "markdown",
   "metadata": {},
   "source": [
    "## For Loop\n",
    "### Syntax\n",
    "```python\n",
    "for var in sequence:\n",
    "    statements\n",
    "```"
   ]
  },
  {
   "cell_type": "code",
   "execution_count": 2,
   "metadata": {},
   "outputs": [
    {
     "name": "stdout",
     "output_type": "stream",
     "text": [
      "pi squared over 6: 1.644934\n",
      "sum of 1/k^2 for k=1 to 1000: 1.643935\n"
     ]
    }
   ],
   "source": [
    "import math\n",
    "\n",
    "N = 1000\n",
    "euler = 0\n",
    "for k in range(N):\n",
    "    euler += 1/(k+1)**2\n",
    "\n",
    "print(f\"pi squared over 6: {math.pi**2/6:.6f}\")\n",
    "print(f\"sum of 1/k^2 for k=1 to {N}: {euler:.6f}\")"
   ]
  },
  {
   "cell_type": "code",
   "execution_count": 3,
   "metadata": {},
   "outputs": [
    {
     "name": "stdout",
     "output_type": "stream",
     "text": [
      "The exponential constant: 2.718282\n",
      "sum of 1/k! for k=0 to 99: 2.718282\n"
     ]
    }
   ],
   "source": [
    "N = 100\n",
    "exp = 0\n",
    "for k in range(N):\n",
    "    exp += 1/math.factorial(k)\n",
    "\n",
    "print(f\"The exponential constant: {math.exp(1):.6f}\")\n",
    "print(f\"sum of 1/k! for k=0 to {N-1}: {exp:.6f}\")"
   ]
  },
  {
   "cell_type": "markdown",
   "metadata": {},
   "source": [
    "## While Loop\n",
    "### Syntax\n",
    "```python\n",
    "while condition:\n",
    "    statements\n",
    "```"
   ]
  },
  {
   "cell_type": "code",
   "execution_count": 4,
   "metadata": {},
   "outputs": [
    {
     "name": "stdout",
     "output_type": "stream",
     "text": [
      "The greatest common divisor of 2024 and 320 is 8\n"
     ]
    }
   ],
   "source": [
    "def gcd(a:int, b:int) -> int:\n",
    "    '''Euclidean algorithm for finding the greatest common divisor\n",
    "    '''\n",
    "    if a < b:  # Make a >= b\n",
    "        temp = a\n",
    "        a = b\n",
    "        b = temp\n",
    "    while b != 0:\n",
    "        r = a % b  # Remainder of a divided by b\n",
    "        a = b\n",
    "        b = r\n",
    "    return a\n",
    "\n",
    "x = 2024\n",
    "y = 320\n",
    "print(f\"The greatest common divisor of {x} and {y} is {gcd(x, y)}\")"
   ]
  }
 ],
 "metadata": {
  "kernelspec": {
   "display_name": "base",
   "language": "python",
   "name": "python3"
  },
  "language_info": {
   "codemirror_mode": {
    "name": "ipython",
    "version": 3
   },
   "file_extension": ".py",
   "mimetype": "text/x-python",
   "name": "python",
   "nbconvert_exporter": "python",
   "pygments_lexer": "ipython3",
   "version": "3.12.7"
  }
 },
 "nbformat": 4,
 "nbformat_minor": 2
}
