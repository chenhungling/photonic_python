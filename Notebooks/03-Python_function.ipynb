{
 "cells": [
  {
   "cell_type": "markdown",
   "metadata": {},
   "source": [
    "## Function\n",
    "A Python function is a block of organized, reusable code. A function may be involked by passing data (called **parameters** or **arguments**). The called function returns its result back to the calling environment.\n",
    "\n",
    "### Types of Python functions\n",
    "- **Build-in functions**: Python's standard library includes a number of build-in functions which are always available. Such as `print()`, `input()`, `len()`, `sorted()`, `dir()`, `getattr()`, `hasattr()`, `isinstance()`, `enumerate()`, `zip()`, ...\n",
    "- **Functions defined in modules**: the standard library bundles a number of modules. Each module defines a group of functions (also called **methods**). These functions are available after involking `import module` statement\n",
    "- **User-defined functions**\n",
    "\n",
    "### Syntax\n",
    "```python\n",
    "def function_name(parameters):\n",
    "    '''Docstring\n",
    "    '''\n",
    "    statements\n",
    "    return results\n",
    "```\n",
    "We can specify the data type of parameter using colon `:` and the data type of returned result using `->`."
   ]
  },
  {
   "cell_type": "code",
   "execution_count": 6,
   "metadata": {},
   "outputs": [
    {
     "name": "stdout",
     "output_type": "stream",
     "text": [
      "Step 1: [8, 10, 5, 12, 6, 3, 16, 9]\n",
      "Step 2: [5, 8, 10, 12, 6, 3, 16, 9]\n",
      "Step 3: [5, 8, 10, 12, 6, 3, 16, 9]\n",
      "Step 4: [5, 6, 8, 10, 12, 3, 16, 9]\n",
      "Step 5: [3, 5, 6, 8, 10, 12, 16, 9]\n",
      "Step 6: [3, 5, 6, 8, 10, 12, 16, 9]\n",
      "Step 7: [3, 5, 6, 8, 9, 10, 12, 16]\n",
      "[3, 5, 6, 8, 9, 10, 12, 16]\n"
     ]
    }
   ],
   "source": [
    "def insertion_sort(data:list) -> None:\n",
    "    '''Sort a list in place (in increasing order) using the insertion sort algorithm\n",
    "    '''\n",
    "    n = len(data)\n",
    "    for i in range(1,n):\n",
    "        temp = data[i]\n",
    "        j = i - 1\n",
    "        while (j>=0 and data[j]>temp):\n",
    "            data[j+1] = data[j]  # Push the data one position backward\n",
    "            j -= 1\n",
    "        data[j+1] = temp  # Insert this data into the sorted list\n",
    "        print(f\"Step {i}:\", data)\n",
    "    return  # Return None, data list will be sorted\n",
    "\n",
    "list1 = [10,8,5,12,6,3,16,9]\n",
    "insertion_sort(list1)\n",
    "print(list1)"
   ]
  },
  {
   "cell_type": "markdown",
   "metadata": {},
   "source": [
    "### Function arguments\n",
    "- **Positional** or **required arguments** are passed to a function in correct positional order. The number of arguments in the function call should match exactly with the function definition.\n",
    "- **Keyword arguments** are identified by the parameter names in the function definition. This allows to place arguments out of order because the Python interpreter is able to use the keywords provided to match the values of parameters.\n",
    "- **Default arguments** assume a default value if a value is not provided in the function call."
   ]
  },
  {
   "cell_type": "markdown",
   "metadata": {},
   "source": [
    "### Example \n",
    "SI units of common physical properties are:\n",
    "- Length in meter [m]\n",
    "- Time in second [s]\n",
    "- Speed in [m/s]\n",
    "- Frequency in Hertz or [$\\mathrm{s}^{-1}$]\n",
    "- Energy in Joule [J]. An energy unit used in practice is the electronvolt [eV]. One eV is equivalent to $1.602176634\\times 10^{-19}$ [J].\n",
    "\n",
    "Relationship between frequency ($\\nu$) and wavelength ($\\lambda$):\n",
    "$$ \\nu = \\frac{c}{\\lambda} $$\n",
    "where $c=2.99792458\\times 10^8$ [m/s] is the speed of light in free space.\n",
    "\n",
    "Expression of photon energy ($E$):\n",
    "$$ E = h\\nu = \\frac{hc}{\\lambda} $$\n",
    "where $h=6.62607015\\times 10^{-34}$ [Js] is the Planck constant."
   ]
  },
  {
   "cell_type": "code",
   "execution_count": 10,
   "metadata": {},
   "outputs": [
    {
     "name": "stdout",
     "output_type": "stream",
     "text": [
      "Wavelength 530.0 nm\n",
      "Energy 2.339 eV\n",
      "Frequency 565.6 THz\n"
     ]
    }
   ],
   "source": [
    "def convert_wavelength(wavelength, to=\"frequency\", c=2.99792458e8, h=6.62607015e-34, q=1.602176634e-19):\n",
    "    '''\n",
    "    Function calculating the photon frequency and energy from its wavelength\n",
    "    Input:\n",
    "    wavelength (required argument): float in meter\n",
    "    to (default argument): string \"frequency\", \"energy\", or \"eV\"\n",
    "    Return:\n",
    "    Frequency in Hertz or energy in Joule or eV\n",
    "    '''\n",
    "    if to == \"frequency\":\n",
    "        result = c/wavelength\n",
    "    elif to == \"energy\":\n",
    "        result = h*c/wavelength\n",
    "    elif to == \"eV\":\n",
    "        result = h*c/wavelength/q\n",
    "    else:\n",
    "        raise KeyError(\"Keyward to needs to be one of 'frequency', 'energy', or 'eV'\")\n",
    "    return result\n",
    "\n",
    "wavelength = 0.53e-6\n",
    "ev = convert_wavelength(wavelength, to=\"eV\")\n",
    "freq = convert_wavelength(wavelength, to=\"frequency\")\n",
    "print(f\"Wavelength {wavelength*1e9} nm\")\n",
    "print(f\"Energy {ev:.4g} eV\")\n",
    "print(f\"Frequency {freq/1e12:.4g} THz\")"
   ]
  }
 ],
 "metadata": {
  "kernelspec": {
   "display_name": "base",
   "language": "python",
   "name": "python3"
  },
  "language_info": {
   "codemirror_mode": {
    "name": "ipython",
    "version": 3
   },
   "file_extension": ".py",
   "mimetype": "text/x-python",
   "name": "python",
   "nbconvert_exporter": "python",
   "pygments_lexer": "ipython3",
   "version": "3.12.7"
  }
 },
 "nbformat": 4,
 "nbformat_minor": 2
}
