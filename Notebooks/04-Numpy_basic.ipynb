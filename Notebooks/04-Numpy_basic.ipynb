{
 "cells": [
  {
   "cell_type": "markdown",
   "metadata": {},
   "source": [
    "## NumPy Array\n",
    "NumPy (Numerical Python) is a fundamental library for numerical computation in Python. It provides functions to operate matrices and multi-dimensional arrays efficiently, as well as mathematical functions for linear algebra, Fourier analysis, and more. Many other libraries are built on top of NumPy, such as SciPy (for scientific computing), Pandas (for data manipulation and analysis), and scikit-learn (for machine learning).\n",
    "\n",
    "The most important object defined in NumPy is an N-dimensional array type called `ndarray`. It describes a collection of elements of the same type, which can be accessed using a zero-based index. The shape of an array is a tuple of integers representing the size of the array along each dimension (called **axis**).\n",
    "\n",
    "![](./images/numpy_array_shape.png)\n",
    "\n",
    "The data type of each array elements is an instance of `dtype` object. The following table shows different scalar data types defined in NumPy.\n",
    "| Data type | Description |\n",
    "| --------- | ----------- |\n",
    "| `int_` | Plateform-defined `int` (usually `int32`) |\n",
    "| `float_` | Plateform-defined `float` (usually `float64`) |\n",
    "| `complex_`  | Built-in Python `complex` (`complex128`) |\n",
    "| `int8`    | Integer -128 to 127 |\n",
    "| `int16`   | Integer -32768 to 32767 |\n",
    "| `int32`   | Integer -2147483648 to 2147483647 |\n",
    "| `int64`   | Integer -9223372036854775808 to 9223372036854775807 |\n",
    "| `uint8`    | Unsigned integer 0 to 255 |\n",
    "| `uint16`   | Unsigned integer 0 to 65535 |\n",
    "| `uint32`   | Unsigned integer 0 to 4294967295 |\n",
    "| `uint64`   | Unsigned integer 0 to 18446744073709551615 |\n",
    "| `float32`   | Single precision float: sign bit, 8 bits exponent, 23 bits mantissa |\n",
    "| `float64`   | Double precision float: sign bit, 11 bits exponent, 52 bits mantissa |\n",
    "| `complex64`   | Complex number represented by two 32-bit floats (real and imaginary components) |\n",
    "| `complex128`  | Complex number represented by two 64-bit floats (real and imaginary components) |"
   ]
  },
  {
   "cell_type": "code",
   "execution_count": 36,
   "metadata": {},
   "outputs": [],
   "source": [
    "import math\n",
    "import numpy as np\n",
    "import matplotlib.pyplot as plt"
   ]
  },
  {
   "cell_type": "code",
   "execution_count": 24,
   "metadata": {},
   "outputs": [
    {
     "name": "stdout",
     "output_type": "stream",
     "text": [
      "[0 0 1 1 2 2 3 3 4 4]\n"
     ]
    }
   ],
   "source": [
    "## Create 1D array\n",
    "arr1d = np.array([1,2,3,4])    # Define array given all elements\n",
    "arr1d = np.arange(1, 10, 3)    # arange(start, end, step): from start to end (exclusive) with step size\n",
    "arr1d = np.linspace(0, 1, 11)  # linspace(start, end, n): from start to end (inclusive) n linearly spaced points\n",
    "arr1d = np.repeat(np.arange(5), 2)  # Repeat each element of an array after themselves\n",
    "\n",
    "print(arr1d)"
   ]
  },
  {
   "cell_type": "code",
   "execution_count": 29,
   "metadata": {},
   "outputs": [
    {
     "name": "stdout",
     "output_type": "stream",
     "text": [
      "[[0 1 2 3]\n",
      " [1 2 3 4]\n",
      " [2 3 4 5]]\n",
      "The number of axes (dimensiona) of the array: 2\n",
      "The size of the array in each dimension: (3, 4)\n",
      "The total number of elements in the array: 12\n",
      "The data type of the elements in the array: int32\n",
      "The size in bytes of each elements in the array: 4\n"
     ]
    }
   ],
   "source": [
    "## Create 2D array\n",
    "arr2d = np.array([[1,2,3], [4,5,6]])  # Define array given all elements\n",
    "arr2d = np.zeros((2,3))  # Create array of zero\n",
    "arr2d = np.ones((2,3))   # Create array of one\n",
    "arr2d = np.zeros((2,3), dtype=np.int8)  # Cast a specific dtype\n",
    "arr2d = np.arange(12).reshape(3,4)      # By default numpy array is row-major\n",
    "arr2d = np.eye(3) - 0.2*np.eye(3, k=1)  # eye() create a diagonal matrix of one, k=1 specifies the 1st upper diagonal\n",
    "arr2d = np.diag([3,4,5]) + np.diag([1,2], k=-1)  # diag() create a diagonal matrix of given elements\n",
    "arr2d = np.tile(np.arange(4), (3,1))    # Construct an array by repeating array a certain number of times along each axes\n",
    "arr2d = np.row_stack([np.arange(4)]*3)  # Construct an array by stacking rows\n",
    "arr2d = np.column_stack([np.arange(3)+i for i in range(4)])  # Construct an array by stacking columns\n",
    "\n",
    "print(arr2d)\n",
    "print(\"The number of axes (dimensiona) of the array:\", arr2d.ndim)\n",
    "print(\"The size of the array in each dimension:\", arr2d.shape)\n",
    "print(\"The total number of elements in the array:\", arr2d.size)\n",
    "print(\"The data type of the elements in the array:\", arr2d.dtype)\n",
    "print(\"The size in bytes of each elements in the array:\", arr2d.itemsize)"
   ]
  },
  {
   "cell_type": "code",
   "execution_count": null,
   "metadata": {},
   "outputs": [
    {
     "name": "stdout",
     "output_type": "stream",
     "text": [
      "(3, 4, 2)\n"
     ]
    }
   ],
   "source": [
    "## Create 3D array\n",
    "img1 = np.random.rand(3,4)  # Uniformly distributed random number between 0 and 1\n",
    "img2 = np.random.rand(3,4)\n",
    "arr3d = np.stack([img1, img2], axis=2)  # Stack arrays along specified axis\n",
    "arr3d = np.concatenate([img1[:,:,np.newaxis], img2[:,:,np.newaxis]], axis=2)  # Concatenate arrays along specified existing axis\n",
    "print(arr3d.shape)"
   ]
  },
  {
   "cell_type": "markdown",
   "metadata": {},
   "source": [
    "## Arithmetic operations\n",
    "NumPy provides several arithmetic operations that are performed element-wise on arrays. These inculde addition `+`, subtraction `-`, multiplication `*`, division `/`, and power `**`. When two arrays of different shapes are used, broadcasting will align their shapes according to some rules.\n",
    "\n",
    "<img src=\"./Images/broadcasting.png\" width=\"600\"/>"
   ]
  },
  {
   "cell_type": "code",
   "execution_count": null,
   "metadata": {},
   "outputs": [
    {
     "name": "stdout",
     "output_type": "stream",
     "text": [
      "[[0 1 2]\n",
      " [1 2 3]\n",
      " [2 3 4]]\n",
      "[[ 0  1  4]\n",
      " [ 9 16 25]]\n"
     ]
    }
   ],
   "source": [
    "res = np.arange(3) + 5\n",
    "res = np.ones((3,3), dtype=int) + np.arange(3)\n",
    "res = np.arange(3).reshape((3,1)) + np.arange(3)\n",
    "print(res)\n",
    "\n",
    "A = np.array(np.arange(6).reshape((2,3)))\n",
    "print(A**2)"
   ]
  },
  {
   "cell_type": "markdown",
   "metadata": {},
   "source": [
    "## Linear Algebra\n",
    "To perform matrix-vector and matrix-matrix multiplication, use the operator `@`. "
   ]
  },
  {
   "cell_type": "code",
   "execution_count": 51,
   "metadata": {},
   "outputs": [
    {
     "name": "stdout",
     "output_type": "stream",
     "text": [
      "[[ 0.8660254 -0.5      ]\n",
      " [ 0.5        0.8660254]]\n",
      "[[ 0.5       -0.8660254]\n",
      " [ 0.8660254  0.5      ]]\n",
      "[[ 2.22044605e-16 -1.00000000e+00]\n",
      " [ 1.00000000e+00  2.22044605e-16]]\n"
     ]
    }
   ],
   "source": [
    "def rotation_matrix(degree):\n",
    "    theta = math.radians(degree)\n",
    "    R = np.array([[math.cos(theta), -math.sin(theta)],\n",
    "                  [math.sin(theta), math.cos(theta)]])\n",
    "    return R\n",
    "\n",
    "R1 = rotation_matrix(30)\n",
    "R2 = rotation_matrix(60)\n",
    "print(R1)\n",
    "print(R2)\n",
    "print(R1 @ R2)  # or R1.dot(R2)"
   ]
  },
  {
   "cell_type": "code",
   "execution_count": null,
   "metadata": {},
   "outputs": [
    {
     "name": "stdout",
     "output_type": "stream",
     "text": [
      "[[ 0 -1]\n",
      " [ 1  0]]\n",
      "Transpose:\n",
      "[[ 0  1]\n",
      " [-1  0]]\n",
      "Inverse:\n",
      "[[ 0.  1.]\n",
      " [-1. -0.]]\n",
      "Determinant: 1.0\n",
      "L2 norm: 1.4142135623730951\n",
      "A squared:\n",
      "[[-1  0]\n",
      " [ 0 -1]]\n",
      "Eigen values of the matrix: [0.+1.j 0.-1.j]\n"
     ]
    }
   ],
   "source": [
    "A = np.array([[0,-1],[1,0]])\n",
    "print(A)\n",
    "print(\"Transpose:\")  \n",
    "print(A.T)  # or A.transpose()\n",
    "print(\"Inverse:\")\n",
    "print(np.linalg.inv(A))\n",
    "print(\"Determinant:\", np.linalg.det(A))\n",
    "print(\"L2 norm:\", np.linalg.norm(A))  # That is np.sqrt(np.sum(A**2))\n",
    "print(\"A squared:\")\n",
    "print(A @ A)  # Matrix product, diffrent from A**2 element-wise multiplication!\n",
    "\n",
    "D, V = np.linalg.eig(A)\n",
    "## V[:,i] is the normalized eigenvector corresponding to the eigenvalue D[i]\n",
    "print(\"Eigen values:\", D)"
   ]
  }
 ],
 "metadata": {
  "kernelspec": {
   "display_name": "base",
   "language": "python",
   "name": "python3"
  },
  "language_info": {
   "codemirror_mode": {
    "name": "ipython",
    "version": 3
   },
   "file_extension": ".py",
   "mimetype": "text/x-python",
   "name": "python",
   "nbconvert_exporter": "python",
   "pygments_lexer": "ipython3",
   "version": "3.12.7"
  }
 },
 "nbformat": 4,
 "nbformat_minor": 2
}
