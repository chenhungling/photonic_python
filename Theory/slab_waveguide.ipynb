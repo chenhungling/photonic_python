{
 "cells": [
  {
   "cell_type": "markdown",
   "metadata": {},
   "source": [
    "## Slab Waveguide\n",
    "\n",
    "<img src=\"./Images/slab_waveguide.png\" width=\"500\"/>\n",
    "\n",
    "### TE-polarized optical modes in slab waveguide\n",
    "Suppose $E_x, E_z = 0$ and $E_y$ invariant in y-direction, i.e. $\\partial_y E_y = 0$. The optical wave propagates in z-direction with propagation constant $\\beta = k n_\\text{eff}$.\n",
    "$$ \\bold{E} = E_y(x,z)\\bold{u}_y = E_y(x)\\text{exp}(i\\beta z)\\bold{u}_y $$\n",
    "\n",
    "Wave equation $\\Delta E_y + k^2 n^2 E_y = 0$ ($n$ could be $n_1$, $n_2$, $n_3$) results in:\n",
    "$$ \\frac{d^2 E_y}{dx^2} + \\left[ k^2 n^2 - \\beta^2\\right] E_y = 0 $$\n",
    "\n",
    "Solving the above equation in respective homogeneous media:\n",
    "$$ \\begin{align}\n",
    "E_y & = A\\text{cos}(h_1 a - \\phi)\\text{exp}[-\\gamma_3(x-a)] \\quad && \\text{if}\\ x > a \\\\\n",
    "& = A\\text{cos}(h_1 x - \\phi) \\quad && \\text{if}\\ -a < x < a \\\\\n",
    "& = A\\text{cos}(h_1 a + \\phi)\\text{exp}[\\gamma_2(x+a)] \\quad && \\text{if}\\ x < -a\n",
    "\\end{align} $$\n",
    "\n",
    "where $A$ is an undetermined constant and $h_1$, $\\gamma_2$, $\\gamma_3$ is inverse of length:\n",
    "$$ \\begin{align}\n",
    "h_1 & = \\sqrt{k^2n_1^2 - \\beta^2} = k\\sqrt{n_1^2 - n_\\text{eff}^2} \\\\\n",
    "\\gamma_2 & = \\sqrt{\\beta^2-k^2n_2^2} = k\\sqrt{n_\\text{eff}^2 - n_2^2} \\\\\n",
    "\\gamma_3 & = \\sqrt{\\beta^2-k^2n_3^2} = k\\sqrt{n_\\text{eff}^2 - n_3^2}\n",
    "\\end{align} $$\n",
    "\n",
    "- Boundary condition 1: $E_y$ is continuous at $x=a$ and $x=-a$. Yes!\n",
    "- Boundary condition 2: $H_z \\propto  d E_y / dx$ is continuous at $x=a$ and $x=-a$\n",
    "\n",
    "$$ \\begin{align}\n",
    "\\frac{d E_y}{dx} & = -\\gamma_3 A\\text{cos}(h_1 a - \\phi)\\text{exp}[-\\gamma_3(x-a)] \\quad && \\text{if}\\ x > a \\\\\n",
    "& = -h_1 A\\text{sin}(h_1 x - \\phi) \\quad && \\text{if}\\ -a < x < a \\\\\n",
    "& = \\gamma_2 A\\text{cos}(h_1 a + \\phi)\\text{exp}[\\gamma_2(x+a)] \\quad && \\text{if}\\ x < -a\n",
    "\\end{align} $$\n",
    "\n",
    "We have:\n",
    "$$ \\gamma_3 \\text{cos}(h_1 a - \\phi) = h_1 \\text{sin}(h_1 a - \\phi) $$\n",
    "$$ \\gamma_2 \\text{cos}(h_1 a + \\phi) = h_1 \\text{sin}(h_1 a + \\phi) $$\n",
    "\n",
    "That is:\n",
    "$$ \\text{tan}(h_1 a - \\phi) = \\frac{\\gamma_3}{h_1} $$\n",
    "$$ \\text{tan}(h_1 a + \\phi) = \\frac{\\gamma_2}{h_1} $$\n",
    "\n",
    "Eliminating $\\phi$ yields:\n",
    "$$ h_1 a = \\frac{m\\pi}{2} + \\frac{1}{2}\\text{tan}^{-1}\\left(\\frac{\\gamma_2}{h_1}\\right) + \\frac{1}{2}\\text{tan}^{-1}\\left(\\frac{\\gamma_3}{h_1}\\right) $$\n",
    "$$ m=0,1,2,... $$"
   ]
  },
  {
   "cell_type": "code",
   "execution_count": 1,
   "metadata": {},
   "outputs": [],
   "source": [
    "import numpy as np\n",
    "from scipy.optimize import fsolve\n",
    "import matplotlib.pyplot as plt\n",
    "\n",
    "plt.style.use(r\"C:\\Users\\B30724\\Documents\\Python\\presentation.mplstyle\")"
   ]
  },
  {
   "cell_type": "code",
   "execution_count": 6,
   "metadata": {},
   "outputs": [],
   "source": [
    "def eqn_te(neff, m, n1, n2, n3, a, wavelength):\n",
    "    k = 2*np.pi/wavelength\n",
    "    h1 = k*np.sqrt(n1**2 - neff**2)\n",
    "    g2 = k*np.sqrt(neff**2 - n2**2)\n",
    "    g3 = k*np.sqrt(neff**2 - n3**2)\n",
    "    return m*np.pi/2 + np.arctan(g2/h1)/2 + np.arctan(g3/h1)/2 - h1*a"
   ]
  },
  {
   "cell_type": "code",
   "execution_count": 7,
   "metadata": {},
   "outputs": [
    {
     "name": "stdout",
     "output_type": "stream",
     "text": [
      "Root found: 2.99465530798697\n"
     ]
    }
   ],
   "source": [
    "a = 0.11e-6  # Half of the slab thickness\n",
    "wavelength = 1.31e-6  # Vacuum wavelength\n",
    "n1 = 3.5068525745481187  # 1310 nm\n",
    "n2 = 1.4467245597197314  # 1310 nm\n",
    "n3 = 1.4467245597197314  # 1310 nm\n",
    "# wavelength = 1.55e-6  # Vacuum wavelength\n",
    "# n1 = 3.4763795526495227  # 1550 nm\n",
    "# n2 = 1.4440023011779028  # 1550 nm\n",
    "# n3 = 1.4440023011779028  # 1550 nm\n",
    "m = 0  # Mode number: 0 for the fundamental mode\n",
    "\n",
    "func_te = lambda neff: eqn_te(neff, m, n1, n2, n3, a, wavelength)\n",
    "initial_guess = (n1 + max(n2,n3))/2\n",
    "root = fsolve(func_te, initial_guess)\n",
    "print(\"Root found:\", root[0])"
   ]
  },
  {
   "cell_type": "markdown",
   "metadata": {},
   "source": [
    "Once we have solved for the effective index, we get the propagation constant $\\beta$. We can then calculate $h_1$, $\\gamma_2$, $\\gamma_3$ and:\n",
    "$$ \\phi = \\frac{1}{2}\\text{tan}^{-1}\\left(\\frac{\\gamma_2}{h_1}\\right) - \\frac{1}{2}\\text{tan}^{-1}\\left(\\frac{\\gamma_3}{h_1}\\right) $$\n",
    "Finally, we can explicitly express the field (ignoring constant):\n",
    "\n",
    "$$ \\begin{align}\n",
    "E_y & = \\text{cos}(h_1 a - \\phi)\\text{exp}[-\\gamma_3(x-a)] \\quad && \\text{if}\\ x > a \\\\\n",
    "& = \\text{cos}(h_1 x - \\phi) \\quad && \\text{if}\\ -a < x < a \\\\\n",
    "& = \\text{cos}(h_1 a + \\phi)\\text{exp}[\\gamma_2(x+a)] \\quad && \\text{if}\\ x < -a \n",
    "\\end{align} $$ "
   ]
  },
  {
   "cell_type": "code",
   "execution_count": 8,
   "metadata": {},
   "outputs": [
    {
     "name": "stdout",
     "output_type": "stream",
     "text": [
      "Penetration length (into upper cladding): 80 nm\n",
      "Penetration length (into lower substrate): 80 nm\n"
     ]
    }
   ],
   "source": [
    "neff = root[0]\n",
    "x1 = np.linspace(-a, a, 111)  # Waveguide\n",
    "x2 = np.linspace(-5*a, -a, 221)[:-1:]  # Substrate\n",
    "x3 = np.linspace(a, 5*a, 221)[1::]  # Top cladding\n",
    "x = np.hstack([x2, x1, x3])\n",
    "\n",
    "k = 2*np.pi/wavelength\n",
    "h1 = k*np.sqrt(n1**2 - neff**2)\n",
    "g2 = k*np.sqrt(neff**2 - n2**2)\n",
    "g3 = k*np.sqrt(neff**2 - n3**2)\n",
    "phi = np.arctan(g2/h1)/2 - np.arctan(g3/h1)/2  # zero for symmetric waveguide (n2 = n3)\n",
    "print(f\"Penetration length (into upper cladding): {1/g3*1e9:.0f} nm\")\n",
    "print(f\"Penetration length (into lower substrate): {1/g2*1e9:.0f} nm\")\n",
    "\n",
    "E3 = np.cos(h1*a-phi)*np.exp(-g3*(x3-a))\n",
    "E1 = np.cos(h1*x1-phi)\n",
    "E2 = np.cos(h1*a+phi)*np.exp(g2*(x2+a))\n",
    "Ey = np.hstack([E2, E1, E3])"
   ]
  },
  {
   "cell_type": "code",
   "execution_count": 20,
   "metadata": {},
   "outputs": [
    {
     "data": {
      "image/png": "[encoded data removed]",
      "text/plain": [
       "<Figure size 400x350 with 1 Axes>"
      ]
     },
     "metadata": {},
     "output_type": "display_data"
    }
   ],
   "source": [
    "slab = a*1e6\n",
    "\n",
    "fig, ax = plt.subplots(figsize=(4,3.5))\n",
    "ax.axhline(slab, c='k')\n",
    "ax.axhline(-slab, c='k')\n",
    "ax.plot(Ey, x*1e6, c='tab:red')\n",
    "ax.fill_between(ax.get_xlim(), slab, -slab, color='gray', alpha=0.5)\n",
    "ax.set(xlabel=\"Ey (a.u.)\", ylabel=\"x (µm)\", title=\"TE mode\")\n",
    "fig.tight_layout()"
   ]
  },
  {
   "cell_type": "markdown",
   "metadata": {},
   "source": [
    "### TM-polarized optical modes in slab waveguide\n",
    "Suppose $H_x, H_z = 0$ and $H_y$ invariant in y-direction, i.e. $\\partial_y H_y = 0$. The optical wave propagates in z-direction with propagation constant $\\beta = k n_\\text{eff}$.\n",
    "$$ \\bold{H} = H_y(x,z)\\bold{u}_y = H_y(x)\\text{exp}(i\\beta z)\\bold{u}_y $$\n",
    "\n",
    "Wave equation $\\Delta H_y + k^2 n^2 H_y = 0$ ($n$ could be $n_1$, $n_2$, $n_3$) results in:\n",
    "$$ \\frac{d^2 H_y}{dx^2} + \\left[ k^2 n^2 - \\beta^2\\right] H_y = 0 $$\n",
    "\n",
    "The general solutions written in respective regions have the same functional forms as in TE mode equations. However, the boundary condition is slightly different!\n",
    "- Boundary condition 1: $H_y$ is continuous at $x=a$ and $x=-a$. Yes!\n",
    "- Boundary condition 2: $E_z \\propto  1/\\varepsilon\\:d H_y / dx$ is continuous at $x=a$ and $x=-a$\n",
    "\n",
    "$$ \\begin{align}\n",
    "\\frac{d H_y}{dx} & = -\\gamma_3 \\text{cos}(h_1 a - \\phi)\\text{exp}[-\\gamma_3(x-a)] \\quad && \\text{if}\\ x > a \\\\\n",
    "& = -h_1 \\text{sin}(h_1 x - \\phi) \\quad && \\text{if}\\ -a < x < a \\\\\n",
    "& = \\gamma_2 \\text{cos}(h_1 a + \\phi)\\text{exp}[\\gamma_2(x+a)] \\quad && \\text{if}\\ x < -a\n",
    "\\end{align} $$\n",
    "\n",
    "We have:\n",
    "$$ \\frac{\\gamma_3}{\\varepsilon_3} \\text{cos}(h_1 a - \\phi) = \\frac{h_1}{\\varepsilon_1} \\text{sin}(h_1 a - \\phi) $$\n",
    "$$ \\frac{\\gamma_2}{\\varepsilon_2} \\text{cos}(h_1 a + \\phi) = \\frac{h_1}{\\varepsilon_1} \\text{sin}(h_1 a + \\phi) $$\n",
    "\n",
    "That is:\n",
    "$$ \\text{tan}(h_1 a - \\phi) = \\frac{\\varepsilon_1}{\\varepsilon_3} \\frac{\\gamma_3}{h_1} $$\n",
    "$$ \\text{tan}(h_1 a + \\phi) = \\frac{\\varepsilon_1}{\\varepsilon_2} \\frac{\\gamma_2}{h_1} $$\n",
    "\n",
    "Eliminating $\\phi$ yields:\n",
    "$$ h_1 a = \\frac{m\\pi}{2} + \\frac{1}{2}\\text{tan}^{-1}\\left(\\frac{\\varepsilon_1}{\\varepsilon_2} \\frac{\\gamma_2}{h_1}\\right) + \\frac{1}{2}\\text{tan}^{-1}\\left(\\frac{\\varepsilon_1}{\\varepsilon_3} \\frac{\\gamma_3}{h_1}\\right) $$\n",
    "$$ m=0,1,2,... $$"
   ]
  },
  {
   "cell_type": "code",
   "execution_count": 10,
   "metadata": {},
   "outputs": [],
   "source": [
    "def eqn_tm(neff, m, n1, n2, n3, a, wavelength):\n",
    "    k = 2*np.pi/wavelength\n",
    "    h1 = k*np.sqrt(n1**2 - neff**2)\n",
    "    g2 = k*np.sqrt(neff**2 - n2**2)\n",
    "    g3 = k*np.sqrt(neff**2 - n3**2)\n",
    "    return m*np.pi/2 + np.arctan(n1**2/n2**2*g2/h1)/2 + np.arctan(n1**2/n3**2*g3/h1)/2 - h1*a"
   ]
  },
  {
   "cell_type": "code",
   "execution_count": 12,
   "metadata": {},
   "outputs": [
    {
     "name": "stdout",
     "output_type": "stream",
     "text": [
      "Root found: 2.4023700054651447\n"
     ]
    }
   ],
   "source": [
    "a = 0.11e-6  # Half of the slab thickness\n",
    "wavelength = 1.31e-6  # Vacuum wavelength\n",
    "n1 = 3.5068525745481187  # 1310 nm\n",
    "n2 = 1.4467245597197314  # 1310 nm\n",
    "n3 = 1.4467245597197314  # 1310 nm\n",
    "# wavelength = 1.55e-6  # Vacuum wavelength\n",
    "# n1 = 3.4763795526495227  # 1550 nm\n",
    "# n2 = 1.4440023011779028  # 1550 nm\n",
    "# n3 = 1.4440023011779028  # 1550 nm\n",
    "m = 0  # Mode number: 0 for the fundamental mode\n",
    "\n",
    "func_tm = lambda neff: eqn_tm(neff, m, n1, n2, n3, a, wavelength)\n",
    "initial_guess = (n1 + max(n2,n3))/2\n",
    "root = fsolve(func_tm, initial_guess)\n",
    "print(\"Root found:\", root[0])"
   ]
  },
  {
   "cell_type": "markdown",
   "metadata": {},
   "source": [
    "Finally, we can explicitly express the field:\n",
    "\n",
    "$$ \\begin{align}\n",
    "E_x & \\propto \\frac{i\\beta}{\\varepsilon} H_y \\\\\n",
    "& = \\frac{i\\beta}{\\varepsilon_3} \\text{cos}(h_1 a - \\phi)\\text{exp}[-\\gamma_3(x-a)] \\quad && \\text{if}\\ x > a \\\\\n",
    "& = \\frac{i\\beta}{\\varepsilon_1} \\text{cos}(h_1 x - \\phi) \\quad && \\text{if}\\ -a < x < a \\\\\n",
    "& = \\frac{i\\beta}{\\varepsilon_2} \\text{cos}(h_1 a + \\phi)\\text{exp}[\\gamma_2(x+a)] \\quad && \\text{if}\\ x < -a \n",
    "\\end{align} $$\n",
    "\n",
    "$$ \\begin{align}\n",
    "E_z & \\propto \\frac{1}{\\varepsilon} \\frac{d H_y}{dx} \\\\\n",
    "& = -\\frac{\\gamma_3}{\\varepsilon_3} \\text{cos}(h_1 a - \\phi)\\text{exp}[-\\gamma_3(x-a)] \\quad && \\text{if}\\ x > a \\\\\n",
    "& = -\\frac{h_1}{\\varepsilon_1} \\text{sin}(h_1 x - \\phi) \\quad && \\text{if}\\ -a < x < a \\\\\n",
    "& = \\frac{\\gamma_2}{\\varepsilon_2} \\text{cos}(h_1 a + \\phi)\\text{exp}[\\gamma_2(x+a)] \\quad && \\text{if}\\ x < -a \n",
    "\\end{align} $$"
   ]
  },
  {
   "cell_type": "code",
   "execution_count": 13,
   "metadata": {},
   "outputs": [
    {
     "name": "stdout",
     "output_type": "stream",
     "text": [
      "Penetration length (into upper cladding): 109 nm\n",
      "Penetration length (into lower substrate): 109 nm\n"
     ]
    }
   ],
   "source": [
    "neff = root[0]\n",
    "x1 = np.linspace(-a, a, 111)  # Waveguide\n",
    "x2 = np.linspace(-5*a, -a, 221)[:-1:]  # Substrate\n",
    "x3 = np.linspace(a, 5*a, 221)[1::]  # Top cladding\n",
    "x = np.hstack([x2, x1, x3])\n",
    "\n",
    "k = 2*np.pi/wavelength\n",
    "h1 = k*np.sqrt(n1**2 - neff**2)\n",
    "g2 = k*np.sqrt(neff**2 - n2**2)\n",
    "g3 = k*np.sqrt(neff**2 - n3**2)\n",
    "phi = np.arctan(n1**2/n2**2*g2/h1)/2 - np.arctan(n1**2/n3**2*g3/h1)/2  # zero for symmetric waveguide (n2 = n3)\n",
    "print(f\"Penetration length (into upper cladding): {1/g3*1e9:.0f} nm\")\n",
    "print(f\"Penetration length (into lower substrate): {1/g2*1e9:.0f} nm\")\n",
    "\n",
    "E3 = (1/n3**2)*np.cos(h1*a-phi)*np.exp(-g3*(x3-a))\n",
    "E1 = (1/n1**2)*np.cos(h1*x1-phi)\n",
    "E2 = (1/n2**2)*np.cos(h1*a+phi)*np.exp(g2*(x2+a))\n",
    "Ex = np.hstack([E2, E1, E3])"
   ]
  },
  {
   "cell_type": "code",
   "execution_count": 21,
   "metadata": {},
   "outputs": [
    {
     "data": {
      "image/png": "[encoded data removed]",
      "text/plain": [
       "<Figure size 400x350 with 1 Axes>"
      ]
     },
     "metadata": {},
     "output_type": "display_data"
    }
   ],
   "source": [
    "slab = a*1e6\n",
    "\n",
    "fig, ax = plt.subplots(figsize=(4,3.5))\n",
    "ax.axhline(slab, c='k')\n",
    "ax.axhline(-slab, c='k')\n",
    "ax.plot(Ex, x*1e6, c='tab:red')\n",
    "ax.fill_between(ax.get_xlim(), slab, -slab, color='gray', alpha=0.5)\n",
    "ax.set(xlabel=\"Ex (a.u.)\", ylabel=\"x (µm)\", title=\"TM mode\")\n",
    "fig.tight_layout()"
   ]
  }
 ],
 "metadata": {
  "kernelspec": {
   "display_name": "photonic",
   "language": "python",
   "name": "python3"
  },
  "language_info": {
   "codemirror_mode": {
    "name": "ipython",
    "version": 3
   },
   "file_extension": ".py",
   "mimetype": "text/x-python",
   "name": "python",
   "nbconvert_exporter": "python",
   "pygments_lexer": "ipython3",
   "version": "3.12.10"
  }
 },
 "nbformat": 4,
 "nbformat_minor": 2
}
