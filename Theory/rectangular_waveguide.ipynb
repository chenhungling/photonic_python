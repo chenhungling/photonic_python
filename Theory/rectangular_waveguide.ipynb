{
 "cells": [
  {
   "cell_type": "markdown",
   "metadata": {},
   "source": [
    "## Rectangular Waveguide\n",
    "Also called channel waveguide, strip waveguide.\n",
    "\n",
    "<img src=\"./Images/rectangular_waveguide.png\" width=\"500\"/>\n",
    "\n",
    "By definition, waveguide is a system that is homogeneous along a propagating axis (here $z$ axis). We look for solutions (**modes**) that vary harmonically with $z$. Mode profile:\n",
    "$$ \\bold{E}(x,y)\\text{exp}(i\\beta z) $$\n",
    "$$ \\bold{H}(x,y)\\text{exp}(i\\beta z) $$\n",
    "with propagation constant $\\beta$, effective index $n_\\text{eff} = \\beta/k$.\n",
    "\n",
    "### TE-polarization (TE-like)\n",
    "Suppose $H_x = 0$ (approximation!), $E_x$ and $H_y$ is predominent. Note that $H$ is continuous across all $x, y$, while $E$ may be discontinous at specific interfaces. The wave equation for the principal $H_y$ component:\n",
    "$$ \\frac{\\partial^2 H_y}{\\partial x^2} + \\frac{\\partial^2 H_y}{\\partial y^2} + \\left[ k^2 n(x,y)^2 - \\beta^2\\right]H_y = 0 $$\n",
    "\n",
    "- Boundary condition 1: $E_z$ is continuous at $x = a$ and $x = -a$\n",
    "$$ E_z \\propto \\frac{1}{n^2}\\frac{\\partial H_y}{\\partial x} $$\n",
    "- Boundary condition 2: $H_z$ is continuous at $y = b$ and $y = -b$\n",
    "$$ H_z \\propto \\frac{\\partial H_y}{\\partial y} $$\n",
    "\n",
    "Assume that the electromagnetic fields can be expressed with the separation of variables:\n",
    "$$ H_y(x,y) = X(x)Y(y) $$\n",
    "\n",
    "Injecting the above ansatz into the wave equation and dividing by $XY$:\n",
    "$$ \\frac{1}{X}\\frac{d^2 X}{dx^2} + \\frac{1}{Y}\\frac{d^2 Y}{dy^2} + \\left[ k^2 n(x,y)^2 - \\beta^2\\right] = 0 $$\n",
    "\n",
    "Introducing an (equivalent $x$-depedent, $y$-averaged) effective index, denoted by $n_\\text{eq}$:\n",
    "$$ \\begin{align}\n",
    "\\frac{1}{Y}\\frac{d^2 Y}{dy^2} + \\left[ k^2 n(x,y)^2 - k^2 n_\\text{eq}(x)^2\\right] & = 0 \\\\\n",
    "\\frac{1}{X}\\frac{d^2 X}{dx^2} + \\left[ k^2 n_\\text{eq}(x)^2 - \\beta^2\\right] & = 0\n",
    "\\end{align} $$\n",
    "\n",
    "We divide (horizonally) the waveguide into a set of slices. In each slice, the medium is invariant in $x$-direction, thus can be treated as a slab waveguide. Precisely, we solve $Y$ using equation (1). Continuity of $H_y$ and boundary condition 2 are translated to continuity of $Y$ and $dY/dy$ at $y=b, -b$. After solving the effective index associated with the slab waveguide of each slice, we then solve the $x$-dependent equation (2) based on the equivalent effective slab index $n_\\text{eq}$. Continuity of $H_y$ and boundary condition 1 are translated to continuity of $X$ and $1/n^2\\:dX/dx$ at $x=a, -a$."
   ]
  },
  {
   "cell_type": "code",
   "execution_count": 10,
   "metadata": {},
   "outputs": [],
   "source": [
    "import numpy as np\n",
    "from scipy.optimize import fsolve\n",
    "import matplotlib.pyplot as plt\n",
    "from matplotlib.patches import Rectangle\n",
    "\n",
    "plt.style.use(r\"C:\\Users\\B30724\\Documents\\Python\\presentation.mplstyle\")"
   ]
  },
  {
   "cell_type": "code",
   "execution_count": 2,
   "metadata": {},
   "outputs": [],
   "source": [
    "def eqn_te(neq, m, n1, n2, b, wavelength):\n",
    "    k = 2*np.pi/wavelength\n",
    "    h1 = k*np.sqrt(n1**2 - neq**2)\n",
    "    g2 = k*np.sqrt(neq**2 - n2**2)\n",
    "    return m*np.pi/2 + np.arctan(g2/h1) - h1*b"
   ]
  },
  {
   "cell_type": "code",
   "execution_count": 5,
   "metadata": {},
   "outputs": [
    {
     "name": "stdout",
     "output_type": "stream",
     "text": [
      "Root found: 2.99465530798697\n"
     ]
    }
   ],
   "source": [
    "b = 0.11e-6  # Half of the waveguide thickness\n",
    "wavelength = 1.31e-6  # Vacuum wavelength\n",
    "n1 = 3.5068525745481187  # 1310 nm\n",
    "n2 = 1.4467245597197314  # 1310 nm\n",
    "# wavelength = 1.55e-6  # Vacuum wavelength\n",
    "# n1 = 3.4763795526495227  # 1550 nm\n",
    "# n2 = 1.4440023011779028  # 1550 nm\n",
    "m = 0  # Mode number for vertical confinement: 0 for the fundamental mode\n",
    "\n",
    "func_te = lambda neq: eqn_te(neq, m, n1, n2, b, wavelength)\n",
    "initial_guess = (n1 + n2)/2\n",
    "root = fsolve(func_te, initial_guess)\n",
    "print(\"Root found:\", root[0])\n",
    "neq = np.copy(root[0])"
   ]
  },
  {
   "cell_type": "markdown",
   "metadata": {},
   "source": [
    "Once we have obtain an equivalent, effective index in the waveguide slice. We turn to solve the problem in $x$-direction (collapsing $y$-direction). Here, $n_\\text{eq}$ could be the index obtained by solving the TE-mode equation, and also $n_2$ index of the cladding outside the waveguide region.\n",
    "$$ \\frac{d^2 X}{dx^2} + \\left[ k^2 n_\\text{eq}^2 - \\beta^2\\right]X = 0 $$\n",
    "\n",
    "Solving the above equation in respective homogeneous media:\n",
    "$$ \\begin{align}\n",
    "X & = \\text{cos}(h a - \\phi)\\text{exp}[-\\gamma(x-a)] \\quad && \\text{if}\\ x > a \\\\\n",
    "& = \\text{cos}(h x - \\phi) \\quad && \\text{if}\\ -a < x < a \\\\\n",
    "& = \\text{cos}(h a + \\phi)\\text{exp}[\\gamma(x+a)] \\quad && \\text{if}\\ x < -a\n",
    "\\end{align} $$\n",
    "\n",
    "where\n",
    "$$ \\begin{align}\n",
    "h & = \\sqrt{k^2 n_\\text{eq}^2 - \\beta^2} \\\\\n",
    "\\gamma & = \\sqrt{\\beta^2 - k^2 n_2^2}\n",
    "\\end{align} $$\n",
    "\n",
    "- $X$ continuous at $x=a$ and $x=-a$. Yes!\n",
    "- $1/n^2\\:dX/dx$ continuous at $x=a$ and $x=-a$\n",
    "\n",
    "$$ \\begin{align}\n",
    "\\frac{dX}{dx} & = -\\gamma \\text{cos}(h a - \\phi)\\text{exp}[-\\gamma(x-a)] \\quad && \\text{if}\\ x > a \\\\\n",
    "& = -h \\text{sin}(h x - \\phi) \\quad && \\text{if}\\ -a < x < a \\\\\n",
    "& = \\gamma \\text{cos}(h a + \\phi)\\text{exp}[\\gamma(x+a)] \\quad && \\text{if}\\ x < -a\n",
    "\\end{align} $$\n",
    "\n",
    "Here, $\\phi=0$ by symmetry ($x:=-x$ should give the same result). We have:\n",
    "$$ \\frac{h}{n_\\text{eq}^2} \\text{sin}(h a) = \\frac{\\gamma}{n_2^2} \\text{cos}(h a) $$\n",
    "\n",
    "Actually, that is same as the TM-mode equation:\n",
    "$$ \\text{tan}(h a) = \\frac{n_\\text{eq}^2}{n_2^2} \\frac{\\gamma}{h} $$\n",
    "\n",
    "Finally:\n",
    "$$ h a = n\\pi + \\text{tan}^{-1}\\left(\\frac{n_\\text{eq}^2}{n_2^2} \\frac{\\gamma}{h}\\right) $$\n",
    "$$ n=0,1,2,... $$"
   ]
  },
  {
   "cell_type": "code",
   "execution_count": 6,
   "metadata": {},
   "outputs": [],
   "source": [
    "from scipy.optimize import root_scalar  # Provide interval to search for root, avoid looking for square root of negative numbers\n",
    "\n",
    "def eqn_tm(neff, n, neq, n2, a, wavelength):\n",
    "    k = 2*np.pi/wavelength\n",
    "    h = k*np.sqrt(neq**2 - neff**2)\n",
    "    g = k*np.sqrt(neff**2 - n2**2)\n",
    "    return n*np.pi + np.arctan(neq**2/n2**2*g/h) - h*a"
   ]
  },
  {
   "cell_type": "code",
   "execution_count": 7,
   "metadata": {},
   "outputs": [
    {
     "name": "stdout",
     "output_type": "stream",
     "text": [
      "Root found:       converged: True\n",
      "           flag: converged\n",
      " function_calls: 9\n",
      "     iterations: 8\n",
      "           root: 2.6243874681403163\n",
      "         method: brentq\n"
     ]
    },
    {
     "name": "stderr",
     "output_type": "stream",
     "text": [
      "C:\\Users\\B30724\\AppData\\Local\\Temp\\ipykernel_49020\\978619241.py:7: RuntimeWarning: divide by zero encountered in scalar divide\n",
      "  return n*np.pi + np.arctan(neq**2/n2**2*g/h) - h*a\n"
     ]
    }
   ],
   "source": [
    "a = 0.205e-6  # Half of the waveguide width\n",
    "n = 0  # Mode number for horizontal confinement: 0 for the fundamental mode\n",
    "\n",
    "func_tm = lambda neff: eqn_tm(neff, n, neq, n2, a, wavelength)\n",
    "try:\n",
    "    root_new = root_scalar(func_tm, bracket=[n2, neq], method='brentq')\n",
    "    print(\"Root found:\", root_new)\n",
    "except ValueError as e:\n",
    "    print(\"Error:\", e)"
   ]
  },
  {
   "cell_type": "code",
   "execution_count": 9,
   "metadata": {},
   "outputs": [
    {
     "name": "stdout",
     "output_type": "stream",
     "text": [
      "2.6243874681403163\n"
     ]
    }
   ],
   "source": [
    "neff = root_new.root\n",
    "print(neff)"
   ]
  },
  {
   "cell_type": "markdown",
   "metadata": {},
   "source": [
    "### Field in symmetrical cladding"
   ]
  },
  {
   "cell_type": "code",
   "execution_count": null,
   "metadata": {},
   "outputs": [
    {
     "data": {
      "image/png": "[encoded data removed]",
      "text/plain": [
       "<Figure size 400x300 with 1 Axes>"
      ]
     },
     "metadata": {},
     "output_type": "display_data"
    }
   ],
   "source": [
    "width = 2*a*1e6\n",
    "height = 2*b*1e6\n",
    "x1 = np.linspace(-a, a, 111)  # Waveguide\n",
    "x2 = np.linspace(-5*a, -a, 221)[:-1:]  # Left cladding\n",
    "x3 = np.linspace(a, 5*a, 221)[1::]  # Right cladding\n",
    "x = np.hstack([x2, x1, x3])\n",
    "y1 = np.linspace(-b, b, 111)  # Waveguide\n",
    "y2 = np.linspace(-5*b, -b, 221)[:-1:]  # Bottom cladding\n",
    "y3 = np.linspace(b, 5*b, 221)[1::]  # Top cladding\n",
    "y = np.hstack([y2, y1, y3])\n",
    "\n",
    "k = 2*np.pi/wavelength\n",
    "hy = k*np.sqrt(n1**2 - neq**2)\n",
    "gy = k*np.sqrt(neq**2 - n2**2)\n",
    "fy = np.hstack([np.cos(hy*b)*np.exp(gy*(y2+b)),\n",
    "                np.cos(hy*y1),\n",
    "                np.cos(hy*b)*np.exp(-gy*(y3-b))])\n",
    "hx = k*np.sqrt(neq**2 - neff**2)\n",
    "gx = k*np.sqrt(neff**2 - n2**2)\n",
    "fx = np.hstack([1/n2**2*np.cos(hx*a)*np.exp(gx*(x2+a)),\n",
    "                1/neq**2*np.cos(hx*x1),\n",
    "                1/n2**2*np.cos(hx*a)*np.exp(-gx*(x3-a))])\n",
    "Fx, Fy = np.meshgrid(fx, fy)\n",
    "Ex = Fx*Fy\n",
    "\n",
    "fig, ax = plt.subplots(figsize=(4,3))\n",
    "ax.pcolormesh(x*1e6, y*1e6, Ex, cmap='jet')\n",
    "ax.add_patch(Rectangle((-width/2,-height/2), width, height, ls=\"-\", lw=1, ec=\"k\", fc=\"none\"))\n",
    "ax.set(xlabel=\"x (µm)\", ylabel=\"y (µm)\", title=\"TE-like mode Ex\")\n",
    "ax.set_aspect(\"equal\")"
   ]
  }
 ],
 "metadata": {
  "kernelspec": {
   "display_name": "photonic",
   "language": "python",
   "name": "python3"
  },
  "language_info": {
   "codemirror_mode": {
    "name": "ipython",
    "version": 3
   },
   "file_extension": ".py",
   "mimetype": "text/x-python",
   "name": "python",
   "nbconvert_exporter": "python",
   "pygments_lexer": "ipython3",
   "version": "3.12.10"
  }
 },
 "nbformat": 4,
 "nbformat_minor": 2
}
